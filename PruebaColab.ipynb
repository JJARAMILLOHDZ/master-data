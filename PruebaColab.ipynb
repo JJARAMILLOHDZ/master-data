{
  "nbformat": 4,
  "nbformat_minor": 0,
  "metadata": {
    "colab": {
      "name": "PruebaColab.ipynb",
      "provenance": [],
      "authorship_tag": "ABX9TyPJiQlo+JzZvW8KetkCsrf4",
      "include_colab_link": true
    },
    "kernelspec": {
      "name": "python3",
      "display_name": "Python 3"
    }
  },
  "cells": [
    {
      "cell_type": "markdown",
      "metadata": {
        "id": "view-in-github",
        "colab_type": "text"
      },
      "source": [
        "<a href=\"https://colab.research.google.com/github/JJARAMILLOHDZ/master-data/blob/main/PruebaColab.ipynb\" target=\"_parent\"><img src=\"https://colab.research.google.com/assets/colab-badge.svg\" alt=\"Open In Colab\"/></a>"
      ]
    },
    {
      "cell_type": "code",
      "metadata": {
        "colab": {
          "base_uri": "https://localhost:8080/"
        },
        "id": "5qFBMaSFzH8e",
        "outputId": "169e6430-bc14-48c4-a765-2925db63273d"
      },
      "source": [
        "print(\"Hola mundo\")"
      ],
      "execution_count": 1,
      "outputs": [
        {
          "output_type": "stream",
          "text": [
            "Hola mundo\n"
          ],
          "name": "stdout"
        }
      ]
    }
  ]
}